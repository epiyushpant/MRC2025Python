{
 "cells": [
  {
   "cell_type": "code",
   "execution_count": 15,
   "id": "899cdc90-b33e-4410-9364-894494ec0e9e",
   "metadata": {},
   "outputs": [
    {
     "name": "stdout",
     "output_type": "stream",
     "text": [
      "Arithmetic Operators:\n",
      "Addition: 15 + 4 = 19\n",
      "Subtraction: 15 - 4 = 11\n",
      "Multiplication: 15 * 4 = 60\n",
      "Division: 15 / 4 = 3.75\n",
      "Floor Division: 15 // 4 = 3\n",
      "Modulus: 15 % 4 = 3\n",
      "Exponentiation: 15 ** 4 = 50625\n"
     ]
    }
   ],
   "source": [
    "# Arithmetic Operators\n",
    "a = 15\n",
    "b = 4\n",
    "\n",
    "print(\"Arithmetic Operators:\")\n",
    "print(f\"Addition: {a} + {b} = {a + b}\")\n",
    "print(f\"Subtraction: {a} - {b} = {a - b}\")\n",
    "print(f\"Multiplication: {a} * {b} = {a * b}\")\n",
    "print(f\"Division: {a} / {b} = {a / b}\")\n",
    "print(f\"Floor Division: {a} // {b} = {a // b}\")\n",
    "print(f\"Modulus: {a} % {b} = {a % b}\")\n",
    "print(f\"Exponentiation: {a} ** {b} = {a ** b}\")\n",
    "\n",
    "\n"
   ]
  },
  {
   "cell_type": "code",
   "execution_count": 16,
   "id": "a63a1ca1-a6d9-4ea7-83ee-08045b43a85a",
   "metadata": {},
   "outputs": [
    {
     "name": "stdout",
     "output_type": "stream",
     "text": [
      "\n",
      "Comparison Operators:\n",
      "x == y: False\n",
      "x != y: True\n",
      "x > y: False\n",
      "x < y: True\n",
      "x >= y: False\n",
      "x <= y: True\n"
     ]
    }
   ],
   "source": [
    "# Comparison Operators\n",
    "x = 10\n",
    "y = 20\n",
    "\n",
    "print(\"\\nComparison Operators:\")\n",
    "print(f\"x == y: {x == y}\")\n",
    "print(f\"x != y: {x != y}\")\n",
    "print(f\"x > y: {x > y}\")\n",
    "print(f\"x < y: {x < y}\")\n",
    "print(f\"x >= y: {x >= y}\")\n",
    "print(f\"x <= y: {x <= y}\")\n",
    "\n"
   ]
  },
  {
   "cell_type": "code",
   "execution_count": 3,
   "id": "66299cf3-43e4-4739-a0cf-34a94a54374f",
   "metadata": {},
   "outputs": [
    {
     "name": "stdout",
     "output_type": "stream",
     "text": [
      "\n",
      "Logical Operators:\n",
      "p and q: False\n",
      "p or q: True\n",
      "not p: False\n"
     ]
    }
   ],
   "source": [
    "# Logical Operators\n",
    "p = True\n",
    "q = False\n",
    "\n",
    "print(\"\\nLogical Operators:\")\n",
    "print(f\"p and q: {p and q}\")\n",
    "print(f\"p or q: {p or q}\")\n",
    "print(f\"not p: {not p}\")\n",
    "\n"
   ]
  },
  {
   "cell_type": "code",
   "execution_count": 17,
   "id": "cff19397-80f6-4799-b6cc-9e293754bc0c",
   "metadata": {},
   "outputs": [
    {
     "name": "stdout",
     "output_type": "stream",
     "text": [
      "\n",
      "Assignment Operators:\n",
      "z += 3: 8\n",
      "z *= 2: 16\n"
     ]
    }
   ],
   "source": [
    "# Assignment Operators\n",
    "z = 5\n",
    "z += 3  # z = z + 3\n",
    "print(\"\\nAssignment Operators:\")\n",
    "print(f\"z += 3: {z}\")\n",
    "\n",
    "z *= 2  # z = z * 2\n",
    "print(f\"z *= 2: {z}\")\n",
    "\n"
   ]
  },
  {
   "cell_type": "code",
   "execution_count": 18,
   "id": "e8d5d6f7-c60a-4612-a187-8b56f88eaef4",
   "metadata": {},
   "outputs": [
    {
     "name": "stdout",
     "output_type": "stream",
     "text": [
      "\n",
      "Bitwise Operators:\n",
      "a & b: 0\n",
      "a | b: 14\n",
      "a ^ b: 14\n",
      "~a: -11\n",
      "a << 1: 20\n",
      "a >> 1: 5\n"
     ]
    }
   ],
   "source": [
    "# Bitwise Operators\n",
    "a = 10  # 1010 in binary\n",
    "b = 4   # 0100 in binary\n",
    "\n",
    "print(\"\\nBitwise Operators:\")\n",
    "print(f\"a & b: {a & b}\")  # AND\n",
    "print(f\"a | b: {a | b}\")  # OR\n",
    "print(f\"a ^ b: {a ^ b}\")  # XOR\n",
    "print(f\"~a: {~a}\")         # NOT\n",
    "print(f\"a << 1: {a << 1}\")  # Left shift\n",
    "print(f\"a >> 1: {a >> 1}\")  # Right shift\n",
    "\n"
   ]
  },
  {
   "cell_type": "code",
   "execution_count": 19,
   "id": "5a9230d3-04b6-499b-9a91-ca913e0b4b84",
   "metadata": {},
   "outputs": [
    {
     "name": "stdout",
     "output_type": "stream",
     "text": [
      "20\n",
      "40\n"
     ]
    }
   ],
   "source": [
    "a = 10  # Binary: 1010\n",
    "print(a << 1)  # Output: 20 (Binary: 10100) : insert 0 in last (left shift) \n",
    "print(a << 2)  # Output: 40 (Binary: 101000)"
   ]
  },
  {
   "cell_type": "code",
   "execution_count": 20,
   "id": "c2246a16-749f-4cf8-9c43-18d592efd68a",
   "metadata": {},
   "outputs": [
    {
     "name": "stdout",
     "output_type": "stream",
     "text": [
      "5\n",
      "2\n"
     ]
    }
   ],
   "source": [
    "a = 10  # Binary: 1010\n",
    "print(a >> 1)  # Output: 5 (Binary: 0101) : insert one in front ( right shift ) \n",
    "print(a >> 2)  # Output: 2 (Binary: 0010)"
   ]
  },
  {
   "cell_type": "markdown",
   "id": "619f9db8-a861-4ac2-b3cf-135f4ed73316",
   "metadata": {},
   "source": [
    "### Membership operators check if a value is present in a sequence like lists, tuples, or strings.\n",
    "\n",
    "in → Returns **True** if the specified element exists in the sequence.\n",
    "\n",
    "not in → Returns **True** if it does not exist in the sequence."
   ]
  },
  {
   "cell_type": "code",
   "execution_count": 21,
   "id": "e468518d-44f8-49de-9f5e-ac402576c3f9",
   "metadata": {},
   "outputs": [
    {
     "name": "stdout",
     "output_type": "stream",
     "text": [
      "\n",
      "Membership Operators:\n",
      "3 in lst: True\n",
      "6 not in lst: True\n"
     ]
    }
   ],
   "source": [
    "# Membership Operators\n",
    "lst = [1, 2, 3, 4, 5]\n",
    "\n",
    "print(\"\\nMembership Operators:\")\n",
    "print(f\"3 in lst: {3 in lst}\")\n",
    "print(f\"6 not in lst: {6 not in lst}\")\n",
    "\n"
   ]
  },
  {
   "cell_type": "markdown",
   "id": "cd8204fe-f7eb-4490-88b0-f5f20935b92e",
   "metadata": {},
   "source": [
    "### Identity operators are used to compare whether two objects refer to the same memory location.\n",
    "\n",
    "is → Returns **True** if both variables reference the same object.\n",
    "\n",
    "is not → Returns **True** if they reference different object"
   ]
  },
  {
   "cell_type": "code",
   "execution_count": 22,
   "id": "6547bad7-1a21-40cc-8a99-03a11c3cda76",
   "metadata": {},
   "outputs": [
    {
     "name": "stdout",
     "output_type": "stream",
     "text": [
      "\n",
      "Identity Operators:\n",
      "a is b: False\n",
      "a is c: True\n"
     ]
    }
   ],
   "source": [
    "# Identity Operators\n",
    "a = [1, 2, 3]\n",
    "b = [1, 2, 3]\n",
    "c = a\n",
    "\n",
    "print(\"\\nIdentity Operators:\")\n",
    "print(f\"a is b: {a is b}\")    # False, because a and b are different objects\n",
    "print(f\"a is c: {a is c}\")    # True, because a and c refer to the same object"
   ]
  },
  {
   "cell_type": "code",
   "execution_count": null,
   "id": "07567584-3e49-4113-99f3-d73c3f79c378",
   "metadata": {},
   "outputs": [],
   "source": []
  }
 ],
 "metadata": {
  "kernelspec": {
   "display_name": "Python 3 (ipykernel)",
   "language": "python",
   "name": "python3"
  },
  "language_info": {
   "codemirror_mode": {
    "name": "ipython",
    "version": 3
   },
   "file_extension": ".py",
   "mimetype": "text/x-python",
   "name": "python",
   "nbconvert_exporter": "python",
   "pygments_lexer": "ipython3",
   "version": "3.13.3"
  }
 },
 "nbformat": 4,
 "nbformat_minor": 5
}
