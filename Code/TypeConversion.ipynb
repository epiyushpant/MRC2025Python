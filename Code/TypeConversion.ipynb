{
 "cells": [
  {
   "cell_type": "code",
   "execution_count": 14,
   "id": "2db48e53-becf-401c-9722-df6a8912fb40",
   "metadata": {},
   "outputs": [],
   "source": [
    "# Constants (using all uppercase letters to indicate constants by convention)\n",
    "PI = 3.14159  # Constant value, representing Pi\n",
    "MAX_LIMIT = 1000  # Constant for maximum limit\n",
    "\n",
    "# Variables (these can be changed during the program execution)\n",
    "age = 25              # Integer\n",
    "name = \"John Doe\"     # String\n",
    "is_active = True      # Boolean\n",
    "height = 5.9          # Float\n",
    "\n",
    "\n"
   ]
  },
  {
   "cell_type": "code",
   "execution_count": 15,
   "id": "18cfeb60-7584-412e-a333-efe7a4274b68",
   "metadata": {},
   "outputs": [
    {
     "name": "stdout",
     "output_type": "stream",
     "text": [
      "25\n"
     ]
    },
    {
     "data": {
      "text/plain": [
       "int"
      ]
     },
     "execution_count": 15,
     "metadata": {},
     "output_type": "execute_result"
    }
   ],
   "source": [
    "print(age)\n",
    "type(age)"
   ]
  },
  {
   "cell_type": "code",
   "execution_count": 16,
   "id": "5f1b8c46-0136-46f3-892a-6581a80d5b92",
   "metadata": {},
   "outputs": [
    {
     "name": "stdout",
     "output_type": "stream",
     "text": [
      "Initial values and their types:\n",
      "Age: 25, Type: <class 'int'>\n",
      "Name: John Doe, Type: <class 'str'>\n",
      "Is Active: True, Type: <class 'bool'>\n",
      "Height: 5.9, Type: <class 'float'>\n",
      "PI: 3.14159, Type: <class 'float'>\n",
      "MAX_LIMIT: 1000, Type: <class 'int'>\n"
     ]
    }
   ],
   "source": [
    "# Display initial values and their types\n",
    "print(\"Initial values and their types:\")\n",
    "print(f\"Age: {age}, Type: {type(age)}\")\n",
    "print(f\"Name: {name}, Type: {type(name)}\")\n",
    "print(f\"Is Active: {is_active}, Type: {type(is_active)}\")\n",
    "print(f\"Height: {height}, Type: {type(height)}\")\n",
    "print(f\"PI: {PI}, Type: {type(PI)}\")\n",
    "print(f\"MAX_LIMIT: {MAX_LIMIT}, Type: {type(MAX_LIMIT)}\")\n",
    "\n"
   ]
  },
  {
   "cell_type": "code",
   "execution_count": 17,
   "id": "d812fabc-423f-4886-8c19-a106c5c896b4",
   "metadata": {},
   "outputs": [],
   "source": [
    "# Type Conversion (Converting variables to different types)\n",
    "age_str = str(age)       # Convert integer to string\n",
    "height_int = int(height) # Convert float to integer\n",
    "is_active_int = int(is_active)  # Convert boolean to integer (True = 1, False = 0)\n",
    "\n"
   ]
  },
  {
   "cell_type": "code",
   "execution_count": 18,
   "id": "41fc5db5-ac46-4d6f-87ff-c176b0dbd6b4",
   "metadata": {},
   "outputs": [
    {
     "name": "stdout",
     "output_type": "stream",
     "text": [
      "\n",
      "After type conversion:\n",
      "Age as string: 25, Type: <class 'str'>\n",
      "Height as integer: 5, Type: <class 'int'>\n",
      "Is Active as integer: 1, Type: <class 'int'>\n"
     ]
    }
   ],
   "source": [
    "# Display the converted values and their types\n",
    "print(\"\\nAfter type conversion:\")\n",
    "print(f\"Age as string: {age_str}, Type: {type(age_str)}\")\n",
    "print(f\"Height as integer: {height_int}, Type: {type(height_int)}\")\n",
    "print(f\"Is Active as integer: {is_active_int}, Type: {type(is_active_int)}\")"
   ]
  },
  {
   "cell_type": "markdown",
   "id": "df0c54bb-0e5e-485c-80d1-fe63c6ec1462",
   "metadata": {},
   "source": [
    "### List Tuple and types"
   ]
  },
  {
   "cell_type": "code",
   "execution_count": 19,
   "id": "acde0bca-3e1a-4041-a0c0-dc303c4d200a",
   "metadata": {},
   "outputs": [],
   "source": [
    "lst =[1,2,3]"
   ]
  },
  {
   "cell_type": "code",
   "execution_count": 20,
   "id": "4bec392d-948e-4ca9-8749-2e30b064c7a7",
   "metadata": {},
   "outputs": [
    {
     "data": {
      "text/plain": [
       "[1, 2, 3]"
      ]
     },
     "execution_count": 20,
     "metadata": {},
     "output_type": "execute_result"
    }
   ],
   "source": [
    "lst"
   ]
  },
  {
   "cell_type": "code",
   "execution_count": 21,
   "id": "bde17276-de89-44bf-9e98-63ee4d747caa",
   "metadata": {},
   "outputs": [],
   "source": [
    "lst2= [1,\"hello\"]\n"
   ]
  },
  {
   "cell_type": "code",
   "execution_count": 22,
   "id": "39ef44aa-723d-4071-b30d-0a096756b81e",
   "metadata": {},
   "outputs": [
    {
     "data": {
      "text/plain": [
       "[1, 'hello']"
      ]
     },
     "execution_count": 22,
     "metadata": {},
     "output_type": "execute_result"
    }
   ],
   "source": [
    "lst2"
   ]
  },
  {
   "cell_type": "code",
   "execution_count": 23,
   "id": "67bffb71-6fd3-4721-a9a7-f241304345f7",
   "metadata": {},
   "outputs": [],
   "source": [
    "lst2.append(3)"
   ]
  },
  {
   "cell_type": "code",
   "execution_count": 24,
   "id": "ae09b1e0-85de-4cac-9ba5-aca06c10033b",
   "metadata": {},
   "outputs": [
    {
     "data": {
      "text/plain": [
       "[1, 'hello', 3]"
      ]
     },
     "execution_count": 24,
     "metadata": {},
     "output_type": "execute_result"
    }
   ],
   "source": [
    "lst2"
   ]
  },
  {
   "cell_type": "code",
   "execution_count": 29,
   "id": "9dfe10ca-2a46-4b4e-b7bf-41e1afa20630",
   "metadata": {},
   "outputs": [],
   "source": [
    "tpl = (2,\"hello\")"
   ]
  },
  {
   "cell_type": "code",
   "execution_count": 30,
   "id": "e9103004-43dc-42e6-918c-9be754bbf596",
   "metadata": {},
   "outputs": [
    {
     "data": {
      "text/plain": [
       "(2, 'hello')"
      ]
     },
     "execution_count": 30,
     "metadata": {},
     "output_type": "execute_result"
    }
   ],
   "source": [
    "tpl"
   ]
  },
  {
   "cell_type": "code",
   "execution_count": 33,
   "id": "d01cc729-dcb3-4bc5-a13d-f71a3e90eb96",
   "metadata": {},
   "outputs": [],
   "source": [
    "lst2.remove(1)"
   ]
  },
  {
   "cell_type": "code",
   "execution_count": 34,
   "id": "b182ac58-fda7-48f4-a7cf-8645c15ae793",
   "metadata": {},
   "outputs": [
    {
     "data": {
      "text/plain": [
       "['hello', 3]"
      ]
     },
     "execution_count": 34,
     "metadata": {},
     "output_type": "execute_result"
    }
   ],
   "source": [
    "lst2\n"
   ]
  },
  {
   "cell_type": "code",
   "execution_count": 35,
   "id": "442f32f5-87bc-43a3-8592-205dc5027e5b",
   "metadata": {},
   "outputs": [
    {
     "ename": "TypeError",
     "evalue": "unsupported operand type(s) for +: 'int' and 'str'",
     "output_type": "error",
     "traceback": [
      "\u001b[31m---------------------------------------------------------------------------\u001b[39m",
      "\u001b[31mTypeError\u001b[39m                                 Traceback (most recent call last)",
      "\u001b[36mCell\u001b[39m\u001b[36m \u001b[39m\u001b[32mIn[35]\u001b[39m\u001b[32m, line 1\u001b[39m\n\u001b[32m----> \u001b[39m\u001b[32m1\u001b[39m \u001b[38;5;28mprint\u001b[39m(\u001b[32;43m5\u001b[39;49m\u001b[43m \u001b[49m\u001b[43m+\u001b[49m\u001b[43m \u001b[49m\u001b[33;43m\"\u001b[39;49m\u001b[33;43mhello\u001b[39;49m\u001b[33;43m\"\u001b[39;49m)\n",
      "\u001b[31mTypeError\u001b[39m: unsupported operand type(s) for +: 'int' and 'str'"
     ]
    }
   ],
   "source": [
    "print(5 + \"hello\")"
   ]
  },
  {
   "cell_type": "code",
   "execution_count": 37,
   "id": "edf76151-ee55-4ec5-bff6-8615bc4ac33b",
   "metadata": {},
   "outputs": [
    {
     "name": "stdout",
     "output_type": "stream",
     "text": [
      "5 hello\n"
     ]
    }
   ],
   "source": [
    "print(str(5) + \" hello\")"
   ]
  },
  {
   "cell_type": "code",
   "execution_count": 39,
   "id": "1e532dd7-332c-46c5-87cc-ceda17ac1b42",
   "metadata": {},
   "outputs": [
    {
     "name": "stdout",
     "output_type": "stream",
     "text": [
      "5 hello\n"
     ]
    }
   ],
   "source": [
    "print(5, \"hello\")"
   ]
  },
  {
   "cell_type": "code",
   "execution_count": null,
   "id": "c6455820-76db-4fe8-8cb8-72abbfa7e399",
   "metadata": {},
   "outputs": [],
   "source": []
  }
 ],
 "metadata": {
  "kernelspec": {
   "display_name": "Python 3 (ipykernel)",
   "language": "python",
   "name": "python3"
  },
  "language_info": {
   "codemirror_mode": {
    "name": "ipython",
    "version": 3
   },
   "file_extension": ".py",
   "mimetype": "text/x-python",
   "name": "python",
   "nbconvert_exporter": "python",
   "pygments_lexer": "ipython3",
   "version": "3.13.3"
  }
 },
 "nbformat": 4,
 "nbformat_minor": 5
}
