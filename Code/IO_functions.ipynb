{
 "cells": [
  {
   "cell_type": "code",
   "execution_count": 1,
   "id": "7466eccf-7c56-4f87-8c04-f917e86e39e9",
   "metadata": {},
   "outputs": [
    {
     "name": "stdin",
     "output_type": "stream",
     "text": [
      "Enter your name:  piyush\n",
      "Enter your age:  33\n"
     ]
    },
    {
     "name": "stdout",
     "output_type": "stream",
     "text": [
      "Hello, piyush! You are 33 years old.\n"
     ]
    }
   ],
   "source": [
    "# Reading input from the user (input function)\n",
    "name = input(\"Enter your name: \")  # Prompt user to input their name\n",
    "age = int(input(\"Enter your age: \"))  # Prompt user to input their age, converting it to integer\n",
    "\n",
    "# Displaying output using the print function\n",
    "print(f\"Hello, {name}! You are {age} years old.\")\n",
    "\n",
    "\n"
   ]
  },
  {
   "cell_type": "code",
   "execution_count": 2,
   "id": "f6166ce9-9e97-47cf-8f6f-75cca8fb4de5",
   "metadata": {},
   "outputs": [],
   "source": [
    "# Writing to a file using write() function\n",
    "with open('output.txt', 'w') as file:\n",
    "    file.write(f\"Name: {name}\\n\")\n",
    "    file.write(f\"Age: {age}\\n\")\n",
    "    file.write(\"This is the output written to a file.\\n\")\n",
    "\n"
   ]
  },
  {
   "cell_type": "code",
   "execution_count": 3,
   "id": "25f2d79a-1d23-4e0d-821f-7035008d552b",
   "metadata": {},
   "outputs": [
    {
     "name": "stdout",
     "output_type": "stream",
     "text": [
      "\n",
      "Content of output.txt:\n",
      "Name: piyush\n",
      "Age: 33\n",
      "This is the output written to a file.\n",
      "\n"
     ]
    }
   ],
   "source": [
    "# Reading from a file using read() function\n",
    "with open('output.txt', 'r') as file:\n",
    "    content = file.read()\n",
    "    print(\"\\nContent of output.txt:\")\n",
    "    print(content)\n",
    "\n"
   ]
  },
  {
   "cell_type": "code",
   "execution_count": 4,
   "id": "46bd7e61-0f93-40b5-8400-96871911aeb9",
   "metadata": {},
   "outputs": [
    {
     "name": "stdout",
     "output_type": "stream",
     "text": [
      "\n",
      "Reading the first line from output.txt using readline():\n",
      "Name: piyush\n",
      "\n"
     ]
    }
   ],
   "source": [
    "\n",
    "# Using readline() to read a line from the file\n",
    "with open('output.txt', 'r') as file:\n",
    "    print(\"\\nReading the first line from output.txt using readline():\")\n",
    "    first_line = file.readline()\n",
    "    print(first_line)  # Read and display the first line\n"
   ]
  },
  {
   "cell_type": "code",
   "execution_count": null,
   "id": "da5fe0ed-2b6e-45ca-9361-34b97c5e962e",
   "metadata": {},
   "outputs": [],
   "source": []
  }
 ],
 "metadata": {
  "kernelspec": {
   "display_name": "Python 3 (ipykernel)",
   "language": "python",
   "name": "python3"
  },
  "language_info": {
   "codemirror_mode": {
    "name": "ipython",
    "version": 3
   },
   "file_extension": ".py",
   "mimetype": "text/x-python",
   "name": "python",
   "nbconvert_exporter": "python",
   "pygments_lexer": "ipython3",
   "version": "3.13.3"
  }
 },
 "nbformat": 4,
 "nbformat_minor": 5
}
